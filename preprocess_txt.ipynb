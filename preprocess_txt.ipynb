{
 "cells": [
  {
   "cell_type": "markdown",
   "id": "22fd7bbf",
   "metadata": {},
   "source": [
    "# Preprocesamiento del txt\n",
    "\n",
    "El dataset se exporta de la placa ESP32 como un txt, que debe sufrir algunas correcciones antes de poder ser usado.\n",
    "\n",
    "1. Agregar nombres de las columnas.\n",
    "2. Eliminar datos de prueba.\n",
    "3. Agregar horarios cruzando los datos de encendido del dispositivo con los de inicio de toma de datos.\n",
    "4. "
   ]
  },
  {
   "cell_type": "code",
   "execution_count": null,
   "id": "ec854d98",
   "metadata": {},
   "outputs": [],
   "source": [
    "import pandas as pd\n",
    "from datetime import datetime\n",
    "\n",
    "path = './sensor_log_output_25_04.txt'\n",
    "columns=['millis', 'humidity', 'light', 'temperature']\n",
    "\n",
    "df = pd.read_csv(path, sep=',', header=None, names=columns)"
   ]
  },
  {
   "cell_type": "markdown",
   "id": "72fd561c",
   "metadata": {},
   "source": [
    "Para eliminar los valores de prueba, eliminamos las entradas que difieren con la siguiente en menos de 2 segundos, o que tienen tiempo nulo."
   ]
  },
  {
   "cell_type": "code",
   "execution_count": null,
   "id": "3294be53",
   "metadata": {},
   "outputs": [],
   "source": [
    "# Convert millis to integer\n",
    "df['millis'] = pd.to_numeric(df['millis'], errors='coerce').astype('Int64')\n",
    "\n",
    "differences = df['millis'].diff()\n",
    "\n",
    "mask = (differences.isna()) | (differences.between(-2000, 2000))\n",
    "df = df[~mask]\n",
    "\n",
    "df.head()\n"
   ]
  },
  {
   "cell_type": "code",
   "execution_count": null,
   "id": "fd319d37",
   "metadata": {},
   "outputs": [],
   "source": [
    "df = df.reset_index(drop=True)\n",
    "\n",
    "indexes = df[df['millis'] < df['millis'].shift(1)].index\n",
    "indexes = indexes.insert(0, 0)\n",
    "\n",
    "print(indexes)\n",
    "\n",
    "start_time_path = './start_times.csv'\n",
    "start_times = pd.read_csv(start_time_path, sep=',', header=0)\n",
    "\n",
    "for i in range(len(indexes) - 1):\n",
    "    start_idx, end_idx = indexes[i], indexes[i + 1]\n",
    "    start_date = datetime(2025, start_times.iloc[i]['month'], start_times.iloc[i]['day'], \n",
    "                          start_times.iloc[i]['hour'], start_times.iloc[i]['minute'])\n",
    "    start_time = start_date.timestamp()\n",
    "    df.loc[start_idx:end_idx, 'timestamp'] = df.loc[start_idx:end_idx, 'millis'].apply(lambda x: datetime.fromtimestamp(start_time + x / 1000))\n"
   ]
  },
  {
   "cell_type": "code",
   "execution_count": null,
   "id": "7a514d8f",
   "metadata": {},
   "outputs": [],
   "source": [
    "df.head()\n",
    "\n",
    "df.to_csv('datos_planta.csv', index=False)"
   ]
  }
 ],
 "metadata": {
  "kernelspec": {
   "display_name": "dataanalysis-9_M5odLv-py3.13",
   "language": "python",
   "name": "python3"
  },
  "language_info": {
   "codemirror_mode": {
    "name": "ipython",
    "version": 3
   },
   "file_extension": ".py",
   "mimetype": "text/x-python",
   "name": "python",
   "nbconvert_exporter": "python",
   "pygments_lexer": "ipython3",
   "version": "3.13.2"
  }
 },
 "nbformat": 4,
 "nbformat_minor": 5
}
