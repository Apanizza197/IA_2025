{
 "cells": [
  {
   "cell_type": "markdown",
   "id": "22fd7bbf",
   "metadata": {},
   "source": [
    "# Preprocesamiento del txt\n",
    "\n",
    "El dataset se exporta de la placa ESP32 como un txt, que debe sufrir algunas correcciones antes de poder ser usado.\n",
    "\n",
    "1. Agregar nombres de las columnas.\n",
    "2. Eliminar datos de prueba.\n",
    "3. Agregar horarios cruzando los datos de encendido del dispositivo con los de inicio de toma de datos."
   ]
  },
  {
   "cell_type": "code",
   "execution_count": 157,
   "id": "ec854d98",
   "metadata": {},
   "outputs": [],
   "source": [
    "import pandas as pd\n",
    "from datetime import datetime\n",
    "\n",
    "path = './sensor_log_27_04.log'\n",
    "columns=['millis', 'humidity', 'light', 'temperature']\n",
    "\n",
    "df = pd.read_csv(path, sep=',', header=None, names=columns)"
   ]
  },
  {
   "cell_type": "markdown",
   "id": "72fd561c",
   "metadata": {},
   "source": [
    "Para eliminar los valores de prueba, eliminamos las entradas que difieren con la siguiente en menos de 2 segundos, o que tienen tiempo nulo."
   ]
  },
  {
   "cell_type": "code",
   "execution_count": 158,
   "id": "3294be53",
   "metadata": {},
   "outputs": [],
   "source": [
    "# Convert millis to integer\n",
    "df['millis'] = pd.to_numeric(df['millis'], errors='coerce').astype('Int64')\n",
    "\n",
    "differences = df['millis'].diff()\n",
    "\n",
    "mask = (differences.isna()) | (differences.between(-2000, 2000))\n",
    "df = df[~mask]"
   ]
  },
  {
   "cell_type": "code",
   "execution_count": 159,
   "id": "fd319d37",
   "metadata": {},
   "outputs": [
    {
     "name": "stdout",
     "output_type": "stream",
     "text": [
      "[0, 93, 289, 376, 469, 626, 756]\n"
     ]
    },
    {
     "data": {
      "text/html": [
       "<div>\n",
       "<style scoped>\n",
       "    .dataframe tbody tr th:only-of-type {\n",
       "        vertical-align: middle;\n",
       "    }\n",
       "\n",
       "    .dataframe tbody tr th {\n",
       "        vertical-align: top;\n",
       "    }\n",
       "\n",
       "    .dataframe thead th {\n",
       "        text-align: right;\n",
       "    }\n",
       "</style>\n",
       "<table border=\"1\" class=\"dataframe\">\n",
       "  <thead>\n",
       "    <tr style=\"text-align: right;\">\n",
       "      <th></th>\n",
       "      <th>month</th>\n",
       "      <th>day</th>\n",
       "      <th>hour</th>\n",
       "      <th>minute</th>\n",
       "      <th>state</th>\n",
       "    </tr>\n",
       "  </thead>\n",
       "  <tbody>\n",
       "    <tr>\n",
       "      <th>0</th>\n",
       "      <td>4</td>\n",
       "      <td>22</td>\n",
       "      <td>7</td>\n",
       "      <td>35</td>\n",
       "      <td>Normal</td>\n",
       "    </tr>\n",
       "    <tr>\n",
       "      <th>1</th>\n",
       "      <td>4</td>\n",
       "      <td>22</td>\n",
       "      <td>23</td>\n",
       "      <td>0</td>\n",
       "      <td>Triste</td>\n",
       "    </tr>\n",
       "    <tr>\n",
       "      <th>2</th>\n",
       "      <td>4</td>\n",
       "      <td>24</td>\n",
       "      <td>7</td>\n",
       "      <td>33</td>\n",
       "      <td>Muy Triste</td>\n",
       "    </tr>\n",
       "    <tr>\n",
       "      <th>3</th>\n",
       "      <td>4</td>\n",
       "      <td>24</td>\n",
       "      <td>22</td>\n",
       "      <td>2</td>\n",
       "      <td>Triste</td>\n",
       "    </tr>\n",
       "    <tr>\n",
       "      <th>4</th>\n",
       "      <td>4</td>\n",
       "      <td>25</td>\n",
       "      <td>16</td>\n",
       "      <td>23</td>\n",
       "      <td>Normal</td>\n",
       "    </tr>\n",
       "    <tr>\n",
       "      <th>5</th>\n",
       "      <td>4</td>\n",
       "      <td>26</td>\n",
       "      <td>18</td>\n",
       "      <td>27</td>\n",
       "      <td>Normal</td>\n",
       "    </tr>\n",
       "  </tbody>\n",
       "</table>\n",
       "</div>"
      ],
      "text/plain": [
       "   month  day  hour  minute       state\n",
       "0      4   22     7      35      Normal\n",
       "1      4   22    23       0      Triste\n",
       "2      4   24     7      33  Muy Triste\n",
       "3      4   24    22       2      Triste\n",
       "4      4   25    16      23      Normal\n",
       "5      4   26    18      27      Normal"
      ]
     },
     "execution_count": 159,
     "metadata": {},
     "output_type": "execute_result"
    }
   ],
   "source": [
    "df = df.reset_index(drop=True)\n",
    "\n",
    "indexes = df[df['millis'] < df['millis'].shift(1)].index\n",
    "indexes = indexes.insert(0, 0)\n",
    "indexes = indexes.tolist() + [len(df) - 1]\n",
    "\n",
    "print(indexes)\n",
    "\n",
    "start_time_path = './start_times.csv'\n",
    "start_times = pd.read_csv(start_time_path, sep=',', header=0)\n",
    "\n",
    "for i in range(len(indexes) - 1):\n",
    "    start_idx, end_idx = indexes[i], indexes[i + 1]\n",
    "    start_date = datetime(2025, start_times.iloc[i]['month'], start_times.iloc[i]['day'], \n",
    "                          start_times.iloc[i]['hour'], start_times.iloc[i]['minute'])\n",
    "    state = start_times.iloc[i]['state']\n",
    "    start_time = start_date.timestamp()\n",
    "    df.loc[start_idx:end_idx, 'timestamp'] = df.loc[start_idx:end_idx, 'millis'].apply(lambda x: datetime.fromtimestamp(start_time + x / 1000))\n",
    "    df.loc[start_idx:end_idx, 'state'] = state\n",
    "\n",
    "start_times.head(10)\n"
   ]
  },
  {
   "cell_type": "code",
   "execution_count": 160,
   "id": "7a514d8f",
   "metadata": {},
   "outputs": [],
   "source": [
    "df = df.drop(columns=['millis'])\n",
    "\n",
    "df.to_csv('datos_planta.csv', index=False)"
   ]
  }
 ],
 "metadata": {
  "kernelspec": {
   "display_name": "dataanalysis-9_M5odLv-py3.13",
   "language": "python",
   "name": "python3"
  },
  "language_info": {
   "codemirror_mode": {
    "name": "ipython",
    "version": 3
   },
   "file_extension": ".py",
   "mimetype": "text/x-python",
   "name": "python",
   "nbconvert_exporter": "python",
   "pygments_lexer": "ipython3",
   "version": "3.13.2"
  }
 },
 "nbformat": 4,
 "nbformat_minor": 5
}
