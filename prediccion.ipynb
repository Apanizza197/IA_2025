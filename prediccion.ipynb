{
 "cells": [
  {
   "cell_type": "markdown",
   "id": "9cfbfec0",
   "metadata": {},
   "source": [
    "# Defino features de valores hace 24 hs "
   ]
  },
  {
   "cell_type": "code",
   "execution_count": 1,
   "id": "08577584",
   "metadata": {},
   "outputs": [
    {
     "name": "stdout",
     "output_type": "stream",
     "text": [
      "   humidity  light  temperature                timestamp   state  \\\n",
      "0      46.0   21.0        24.13  2025-04-22 07:35:00.595  Normal   \n",
      "1      43.0   55.0        14.85  2025-04-22 07:45:00.611  Normal   \n",
      "2      46.0   53.0        12.43  2025-04-22 07:55:00.626  Normal   \n",
      "3      44.0   62.0        13.46  2025-04-22 08:05:00.641  Normal   \n",
      "4      44.0   62.0        13.52  2025-04-22 08:15:00.656  Normal   \n",
      "\n",
      "   humidity_yesterday  light_yesterday  temperature_yesterday  \n",
      "0                 NaN              NaN                    NaN  \n",
      "1                 NaN              NaN                    NaN  \n",
      "2                 NaN              NaN                    NaN  \n",
      "3                 NaN              NaN                    NaN  \n",
      "4                 NaN              NaN                    NaN  \n"
     ]
    }
   ],
   "source": [
    "import pandas as pd\n",
    "import numpy as np\n",
    "df = pd.read_csv('datos_planta.csv')\n",
    "df = df.dropna(subset=['state'])\n",
    "df['humidity_yesterday'] = df['humidity'].shift(150)\n",
    "df['light_yesterday'] = df['light'].shift(150)\n",
    "df['temperature_yesterday'] = df['temperature'].shift(150)\n",
    "\n",
    "# 3. Guardar el nuevo DataFrame con la columna adicional\n",
    "df.to_csv('datos_planta2.csv', index=False)\n",
    "print(df.head())"
   ]
  },
  {
   "cell_type": "code",
   "execution_count": 2,
   "id": "b48ed901",
   "metadata": {},
   "outputs": [
    {
     "name": "stdout",
     "output_type": "stream",
     "text": [
      "   humidity  light  temperature                timestamp   state  \\\n",
      "0      46.0   21.0        24.13  2025-04-22 07:35:00.595  Normal   \n",
      "1      43.0   55.0        14.85  2025-04-22 07:45:00.611  Normal   \n",
      "2      46.0   53.0        12.43  2025-04-22 07:55:00.626  Normal   \n",
      "3      44.0   62.0        13.46  2025-04-22 08:05:00.641  Normal   \n",
      "4      44.0   62.0        13.52  2025-04-22 08:15:00.656  Normal   \n",
      "\n",
      "   humidity_yesterday  light_yesterday  temperature_yesterday  \n",
      "0            3.968939        80.509678              28.709129  \n",
      "1           67.289835         0.251910              30.598119  \n",
      "2           61.218679        84.677635              13.584310  \n",
      "3           15.869220        14.912536              11.539423  \n",
      "4           72.590277        12.036414              21.217141  \n"
     ]
    }
   ],
   "source": [
    "df['humidity_yesterday'] = df['humidity'].shift(150).fillna(\n",
    "    pd.Series(\n",
    "        np.random.uniform(\n",
    "            low=df['humidity'].min(),\n",
    "            high=df['humidity'].max(),\n",
    "            size=len(df)\n",
    "    )\n",
    "))\n",
    "df['light_yesterday'] = df['light'].shift(150).fillna(\n",
    "    pd.Series(\n",
    "        np.random.uniform(\n",
    "            low=df['light'].min(),\n",
    "            high=df['light'].max(),\n",
    "            size=len(df)\n",
    "    )\n",
    "))\n",
    "df['temperature_yesterday'] = df['temperature'].shift(150).fillna(\n",
    "    pd.Series(\n",
    "        np.random.uniform(\n",
    "            low=df['temperature'].min(),\n",
    "            high=df['temperature'].max(),\n",
    "            size=len(df)\n",
    "    )\n",
    "))\n",
    "print(df.head())\n",
    "df.to_csv('datos_planta2.csv', index=False)"
   ]
  },
  {
   "cell_type": "markdown",
   "id": "36b2d601",
   "metadata": {},
   "source": [
    "# Predicción usando Random Forest 70-30"
   ]
  },
  {
   "cell_type": "code",
   "execution_count": 3,
   "id": "638c1bbe",
   "metadata": {},
   "outputs": [],
   "source": [
    "import pandas as pd\n",
    "from sklearn.model_selection import train_test_split\n",
    "from sklearn.ensemble import RandomForestClassifier\n",
    "from sklearn.metrics import classification_report, accuracy_score, recall_score, precision_score, f1_score\n",
    "from sklearn.preprocessing import LabelEncoder\n",
    "\n",
    "# Supongamos que tus datos están en un DataFrame llamado 'data'\n",
    "# con columnas: feature1, feature2, feature3, y target (las clases)\n",
    "\n",
    "# Si tus clases son strings, las convertimos a valores numéricos\n",
    "label_encoder = LabelEncoder()\n",
    "df['state_encoded'] = label_encoder.fit_transform(df['state'])\n",
    "\n",
    "# Separamos features y target\n",
    "X = df[['humidity_yesterday', 'temperature_yesterday', 'light_yesterday']]\n",
    "y = df['state_encoded']  # Usamos la versión codificada para el modelo\n",
    "\n",
    "# Dividimos en train y test\n",
    "X_train, X_test, y_train, y_test = train_test_split(X, y, test_size=0.3, random_state=42)"
   ]
  },
  {
   "cell_type": "code",
   "execution_count": 4,
   "id": "824a0824",
   "metadata": {},
   "outputs": [
    {
     "name": "stdout",
     "output_type": "stream",
     "text": [
      "Accuracy: 0.91\n",
      "Recall: 0.91\n",
      "Precision: 0.91\n",
      "F1 Score: 0.90\n",
      "\n",
      "Reporte de clasificación:\n",
      "              precision    recall  f1-score   support\n",
      "\n",
      "     Critico       0.89      0.83      0.86        81\n",
      "  Muy Triste       0.85      0.90      0.87       185\n",
      "      Normal       0.96      0.97      0.96       366\n",
      "      Triste       0.85      0.79      0.82       139\n",
      "\n",
      "    accuracy                           0.91       771\n",
      "   macro avg       0.89      0.87      0.88       771\n",
      "weighted avg       0.91      0.91      0.90       771\n",
      "\n"
     ]
    }
   ],
   "source": [
    "# Creamos el modelo Random Forest\n",
    "rf_classifier = RandomForestClassifier(\n",
    "    n_estimators=50,  # Número de árboles\n",
    "    criterion='gini',  # Criterio de división\n",
    "    max_depth=10,    # Profundidad máxima de los árboles\n",
    "    min_samples_split=5,\n",
    "    min_samples_leaf=1,\n",
    "    random_state=42\n",
    ")\n",
    "\n",
    "# Entrenamos el modelo\n",
    "rf_classifier.fit(X_train, y_train)\n",
    "# Predecimos en el conjunto de test\n",
    "y_pred = rf_classifier.predict(X_test)\n",
    "\n",
    "# Convertimos las predicciones numéricas de vuelta a las etiquetas originales\n",
    "y_pred_labels = label_encoder.inverse_transform(y_pred)\n",
    "y_test_labels = label_encoder.inverse_transform(y_test)\n",
    "\n",
    "# Evaluamos el modelo\n",
    "print(f\"Accuracy: {accuracy_score(y_test_labels, y_pred_labels):.2f}\")\n",
    "print(f\"Recall: {recall_score(y_test_labels, y_pred_labels, average='weighted'):.2f}\")\n",
    "print(f\"Precision: {precision_score(y_test_labels, y_pred_labels, average='weighted'):.2f}\")\n",
    "print(f\"F1 Score: {f1_score(y_test_labels, y_pred_labels, average='weighted'):.2f}\")\n",
    "print(\"\\nReporte de clasificación:\")\n",
    "print(classification_report(y_test_labels, y_pred_labels))"
   ]
  },
  {
   "cell_type": "code",
   "execution_count": 5,
   "id": "6f9f6fc3",
   "metadata": {},
   "outputs": [
    {
     "data": {
      "image/png": "[encoded data removed]",
      "text/plain": [
       "<Figure size 640x480 with 2 Axes>"
      ]
     },
     "metadata": {},
     "output_type": "display_data"
    }
   ],
   "source": [
    "from sklearn.metrics import confusion_matrix\n",
    "import seaborn as sns\n",
    "import matplotlib.pyplot as plt\n",
    "\n",
    "cm = confusion_matrix(y_test_labels, y_pred_labels)\n",
    "sns.heatmap(cm, annot=True, fmt='d', cmap='Blues')\n",
    "plt.show()"
   ]
  },
  {
   "cell_type": "code",
   "execution_count": 14,
   "id": "fefc2721",
   "metadata": {},
   "outputs": [
    {
     "name": "stdout",
     "output_type": "stream",
     "text": [
      "Fitting 5 folds for each of 216 candidates, totalling 1080 fits\n",
      "\n",
      "Mejores parámetros encontrados:\n",
      "{'class_weight': None, 'max_depth': None, 'min_samples_leaf': 1, 'min_samples_split': 5, 'n_estimators': 200}\n",
      "\n",
      "Mejor score de validación cruzada:\n",
      "0.9733\n",
      "\n",
      "Reporte de clasificación con el mejor modelo:\n",
      "              precision    recall  f1-score   support\n",
      "\n",
      "     Critico       0.98      0.99      0.98        81\n",
      "  Muy Triste       0.99      0.97      0.98       185\n",
      "      Normal       1.00      1.00      1.00       366\n",
      "      Triste       0.97      0.99      0.98       139\n",
      "\n",
      "    accuracy                           0.99       771\n",
      "   macro avg       0.98      0.99      0.98       771\n",
      "weighted avg       0.99      0.99      0.99       771\n",
      "\n"
     ]
    }
   ],
   "source": [
    "from sklearn.model_selection import GridSearchCV\n",
    "from sklearn.ensemble import RandomForestClassifier\n",
    "import pandas as pd\n",
    "\n",
    "# 1. Definir la grilla de parámetros a explorar\n",
    "param_grid = {\n",
    "    'n_estimators': [50, 100, 200],  # Número de árboles\n",
    "    'max_depth': [None, 10, 20, 30],  # Profundidad máxima\n",
    "    'min_samples_split': [2, 5, 10],  # Mínimo muestras para dividir un nodo\n",
    "    'min_samples_leaf': [1, 2, 4],    # Mínimo muestras en hojas\n",
    "    'class_weight': [None, 'balanced']  # Para manejar clases desbalanceadas\n",
    "}\n",
    "\n",
    "# 2. Crear el modelo base\n",
    "rf = RandomForestClassifier(random_state=42)\n",
    "\n",
    "# 3. Configurar GridSearchCV\n",
    "grid_search = GridSearchCV(\n",
    "    estimator=rf,\n",
    "    param_grid=param_grid,\n",
    "    cv=5,               # 5-fold cross-validation\n",
    "    n_jobs=-1,          # Usar todos los cores del CPU\n",
    "    verbose=2,          # Mostrar progreso\n",
    "    scoring='accuracy'   # Métrica a optimizar\n",
    ")\n",
    "\n",
    "# 4. Ejecutar la búsqueda (asegúrate de que X_train y y_train están definidos)\n",
    "grid_search.fit(X_train, y_train)\n",
    "\n",
    "# 5. Resultados\n",
    "print(\"\\nMejores parámetros encontrados:\")\n",
    "print(grid_search.best_params_)\n",
    "\n",
    "print(\"\\nMejor score de validación cruzada:\")\n",
    "print(f\"{grid_search.best_score_:.4f}\")\n",
    "\n",
    "# 6. Evaluar con el conjunto de test\n",
    "best_rf = grid_search.best_estimator_\n",
    "y_pred = best_rf.predict(X_test)\n",
    "\n",
    "print(\"\\nReporte de clasificación con el mejor modelo:\")\n",
    "print(classification_report(y_test, y_pred, target_names=label_encoder.classes_))"
   ]
  },
  {
   "cell_type": "markdown",
   "id": "8fcc8b07",
   "metadata": {},
   "source": [
    "# Predicción usando Cross Validation con 15 folds"
   ]
  },
  {
   "cell_type": "code",
   "execution_count": 7,
   "id": "90198254",
   "metadata": {},
   "outputs": [
    {
     "name": "stdout",
     "output_type": "stream",
     "text": [
      "\n",
      "Resultados de la Validación Cruzada (15 folds):\n",
      "Accuracy promedio (test): 0.7006 (±0.1836)\n",
      "Precision promedio (test): 0.7395 (±0.1358)\n",
      "Recall promedio (test): 0.7006 (±0.1836)\n",
      "F1-score promedio (test): 0.6926 (±0.1760)\n",
      "\n",
      "Detalle por fold:\n",
      "Fold 1: Accuracy = 0.2907\n",
      "Fold 2: Accuracy = 0.5640\n",
      "Fold 3: Accuracy = 0.7251\n",
      "Fold 4: Accuracy = 0.6901\n",
      "Fold 5: Accuracy = 0.6959\n",
      "Fold 6: Accuracy = 0.9415\n",
      "Fold 7: Accuracy = 0.3450\n",
      "Fold 8: Accuracy = 0.7836\n",
      "Fold 9: Accuracy = 0.8246\n",
      "Fold 10: Accuracy = 0.6784\n",
      "Fold 11: Accuracy = 0.7368\n",
      "Fold 12: Accuracy = 0.7368\n",
      "Fold 13: Accuracy = 0.8538\n",
      "Fold 14: Accuracy = 0.9883\n",
      "Fold 15: Accuracy = 0.6550\n"
     ]
    }
   ],
   "source": [
    "from sklearn.model_selection import cross_validate\n",
    "from sklearn.ensemble import RandomForestClassifier\n",
    "import numpy as np\n",
    "from sklearn.model_selection import cross_val_score\n",
    "\n",
    "# 1. Definir el modelo con los mejores parámetros si ya hiciste GridSearch\n",
    "# Si no, usamos parámetros por defecto\n",
    "rf_model = RandomForestClassifier(\n",
    "    n_estimators=100,\n",
    "    random_state=42,\n",
    "    class_weight='balanced'  # Útil si tienes clases desbalanceadas\n",
    ")\n",
    "\n",
    "# 2. Métricas a calcular durante la validación cruzada\n",
    "scoring = {\n",
    "    'accuracy': 'accuracy',\n",
    "    'precision': 'precision_weighted',\n",
    "    'recall': 'recall_weighted',\n",
    "    'f1': 'f1_weighted'\n",
    "}\n",
    "\n",
    "# 3. Ejecutar 6-fold cross-validation\n",
    "cv_results = cross_validate(\n",
    "    estimator=rf_model,\n",
    "    X=X,  # Todas tus features\n",
    "    y=y,  # Tu target codificado\n",
    "    cv=15,  # 6 folds\n",
    "    scoring=scoring,\n",
    "    n_jobs=-1,  # Usar todos los cores del CPU\n",
    "    return_train_score=True  # Para ver métricas en train también\n",
    ")\n",
    "\n",
    "# 4. Procesar y mostrar resultados\n",
    "print(\"\\nResultados de la Validación Cruzada (15 folds):\")\n",
    "print(f\"Accuracy promedio (test): {np.mean(cv_results['test_accuracy']):.4f} (±{np.std(cv_results['test_accuracy']):.4f})\")\n",
    "print(f\"Precision promedio (test): {np.mean(cv_results['test_precision']):.4f} (±{np.std(cv_results['test_precision']):.4f})\")\n",
    "print(f\"Recall promedio (test): {np.mean(cv_results['test_recall']):.4f} (±{np.std(cv_results['test_recall']):.4f})\")\n",
    "print(f\"F1-score promedio (test): {np.mean(cv_results['test_f1']):.4f} (±{np.std(cv_results['test_f1']):.4f})\")\n",
    "\n",
    "# 5. Opcional: Ver resultados por cada fold\n",
    "print(\"\\nDetalle por fold:\")\n",
    "for i in range(15):\n",
    "    print(f\"Fold {i+1}: Accuracy = {cv_results['test_accuracy'][i]:.4f}\")"
   ]
  },
  {
   "cell_type": "markdown",
   "id": "2232bab0",
   "metadata": {},
   "source": [
    "# Predicción usando Regresión Logística"
   ]
  },
  {
   "cell_type": "code",
   "execution_count": 8,
   "id": "4ea95580",
   "metadata": {},
   "outputs": [
    {
     "name": "stdout",
     "output_type": "stream",
     "text": [
      "Accuracy: 0.6562905317769131\n",
      "\n",
      "Reporte de clasificación:\n",
      "              precision    recall  f1-score   support\n",
      "\n",
      "     Critico       0.35      0.56      0.43        81\n",
      "  Muy Triste       0.50      0.39      0.44       185\n",
      "      Normal       0.91      0.87      0.89       366\n",
      "      Triste       0.47      0.52      0.49       139\n",
      "\n",
      "    accuracy                           0.66       771\n",
      "   macro avg       0.56      0.58      0.56       771\n",
      "weighted avg       0.68      0.66      0.66       771\n",
      "\n"
     ]
    },
    {
     "name": "stderr",
     "output_type": "stream",
     "text": [
      "c:\\Users\\Usuario\\AppData\\Local\\Programs\\Python\\Python312\\Lib\\site-packages\\sklearn\\linear_model\\_logistic.py:1247: FutureWarning: 'multi_class' was deprecated in version 1.5 and will be removed in 1.7. From then on, it will always use 'multinomial'. Leave it to its default value to avoid this warning.\n",
      "  warnings.warn(\n"
     ]
    }
   ],
   "source": [
    "from sklearn.linear_model import LogisticRegression\n",
    "from sklearn.preprocessing import StandardScaler\n",
    "from sklearn.pipeline import make_pipeline\n",
    "\n",
    "# 1. Crear pipeline con escalado y modelo\n",
    "# (La regresión logística es sensible a la escala de los features)\n",
    "log_reg = make_pipeline(\n",
    "    StandardScaler(),\n",
    "    LogisticRegression(\n",
    "        multi_class='multinomial',  # Para problemas multiclase\n",
    "        solver='lbfgs',            # Algoritmo de optimización\n",
    "        max_iter=1000,             # Número máximo de iteraciones\n",
    "        random_state=42,\n",
    "        class_weight='balanced'    # Para manejar clases desbalanceadas\n",
    "    )\n",
    ")\n",
    "\n",
    "# 2. Entrenar el modelo\n",
    "log_reg.fit(X_train, y_train)\n",
    "\n",
    "# 3. Evaluar el modelo\n",
    "y_pred = log_reg.predict(X_test)\n",
    "\n",
    "print(\"Accuracy:\", accuracy_score(y_test, y_pred))\n",
    "print(\"\\nReporte de clasificación:\")\n",
    "print(classification_report(y_test, y_pred, target_names=label_encoder.classes_))"
   ]
  },
  {
   "cell_type": "markdown",
   "id": "7ad8873b",
   "metadata": {},
   "source": [
    "# Analisis de resultados de modelos\n",
    "\n",
    "1. Random Forest\n",
    "Tiene buen rendimiento.\n",
    "Un poco débil en clases como \"Crítico\" y \"Triste\", pero balanceado.\n",
    "Accuracy general de 0.91 y f1 score de 0.90, muy aceptable.\n",
    "\n",
    "2. Random Forest con GridSearchCV\n",
    "En principio el que dio mejores resultados. Accuracy de 0.99, F1-score de 0.99.\n",
    "Clasifica bien todas las clases.\n",
    "\n",
    "3. Cross-validation (15 folds con RF básico)\n",
    "Resultados muy variables: desde 0.29 hasta 0.98. \n",
    "Promedio de Accuracy: 0.70 ± 0.18.\n",
    "Muestra que según cómo se dividan los datos, el rendimiento puede fluctuar mucho → posible problema de inestabilidad por datos desbalanceados o overfitting.\n",
    "\n",
    "4. Regresión Logística\n",
    "Mucho más sencillo y rápido, pero con menor rendimiento, especialmente en clases menos representadas."
   ]
  },
  {
   "cell_type": "markdown",
   "id": "a31b6726",
   "metadata": {},
   "source": [
    "# Predicciones usando nuevas features"
   ]
  },
  {
   "cell_type": "markdown",
   "id": "5664d53d",
   "metadata": {},
   "source": [
    "# Random Forest"
   ]
  },
  {
   "cell_type": "code",
   "execution_count": 9,
   "id": "77d4f6e1",
   "metadata": {},
   "outputs": [],
   "source": [
    "df = pd.read_csv('datos_planta2.csv')\n",
    "df['humidity_squared'] = df['humidity_yesterday'] ** 2\n",
    "df['log_humidity'] = np.log(df['humidity_yesterday'] + 1)  # +1 para evitar log(0)\n",
    "threshold = df['humidity_yesterday'].quantile(0.75)\n",
    "df['is_high_humidity'] = (df['humidity_yesterday'] > threshold).astype(int)\n",
    "df['humidity_rolling_avg'] = df['humidity_yesterday'].rolling(window=50).mean()\n",
    "df['humidity_std'] = df['humidity_yesterday'].rolling(window=50).std()"
   ]
  },
  {
   "cell_type": "code",
   "execution_count": 10,
   "id": "23483692",
   "metadata": {},
   "outputs": [],
   "source": [
    "import pandas as pd\n",
    "from sklearn.model_selection import train_test_split\n",
    "from sklearn.ensemble import RandomForestClassifier\n",
    "from sklearn.metrics import classification_report, accuracy_score, recall_score, precision_score, f1_score\n",
    "from sklearn.preprocessing import LabelEncoder\n",
    "\n",
    "# Supongamos que tus datos están en un DataFrame llamado 'data'\n",
    "# con columnas: feature1, feature2, feature3, y target (las clases)\n",
    "\n",
    "# Si tus clases son strings, las convertimos a valores numéricos\n",
    "label_encoder = LabelEncoder()\n",
    "df['state_encoded'] = label_encoder.fit_transform(df['state'])\n",
    "\n",
    "# Separamos features y target\n",
    "X = df[['humidity_yesterday', 'temperature_yesterday', 'light_yesterday', 'humidity_squared', 'log_humidity', 'is_high_humidity', 'humidity_rolling_avg', 'humidity_std']]\n",
    "y = df['state_encoded']  # Usamos la versión codificada para el modelo\n",
    "\n",
    "# Dividimos en train y test\n",
    "X_train, X_test, y_train, y_test = train_test_split(X, y, test_size=0.3, random_state=42)"
   ]
  },
  {
   "cell_type": "code",
   "execution_count": 11,
   "id": "b7997be8",
   "metadata": {},
   "outputs": [
    {
     "name": "stdout",
     "output_type": "stream",
     "text": [
      "Accuracy: 0.98\n",
      "Recall: 0.98\n",
      "Precision: 0.98\n",
      "F1 Score: 0.98\n",
      "\n",
      "Reporte de clasificación:\n",
      "              precision    recall  f1-score   support\n",
      "\n",
      "     Critico       0.96      1.00      0.98        81\n",
      "  Muy Triste       1.00      0.95      0.98       185\n",
      "      Normal       0.99      0.99      0.99       366\n",
      "      Triste       0.94      0.98      0.96       139\n",
      "\n",
      "    accuracy                           0.98       771\n",
      "   macro avg       0.97      0.98      0.98       771\n",
      "weighted avg       0.98      0.98      0.98       771\n",
      "\n"
     ]
    }
   ],
   "source": [
    "# Creamos el modelo Random Forest\n",
    "rf_classifier = RandomForestClassifier(\n",
    "    n_estimators=50,  # Número de árboles\n",
    "    criterion='gini',  # Criterio de división\n",
    "    max_depth=10,    # Profundidad máxima de los árboles\n",
    "    min_samples_split=5,\n",
    "    min_samples_leaf=1,\n",
    "    random_state=42\n",
    ")\n",
    "\n",
    "# Entrenamos el modelo\n",
    "rf_classifier.fit(X_train, y_train)\n",
    "# Predecimos en el conjunto de test\n",
    "y_pred = rf_classifier.predict(X_test)\n",
    "\n",
    "# Convertimos las predicciones numéricas de vuelta a las etiquetas originales\n",
    "y_pred_labels = label_encoder.inverse_transform(y_pred)\n",
    "y_test_labels = label_encoder.inverse_transform(y_test)\n",
    "\n",
    "# Evaluamos el modelo\n",
    "print(f\"Accuracy: {accuracy_score(y_test_labels, y_pred_labels):.2f}\")\n",
    "print(f\"Recall: {recall_score(y_test_labels, y_pred_labels, average='weighted'):.2f}\")\n",
    "print(f\"Precision: {precision_score(y_test_labels, y_pred_labels, average='weighted'):.2f}\")\n",
    "print(f\"F1 Score: {f1_score(y_test_labels, y_pred_labels, average='weighted'):.2f}\")\n",
    "print(\"\\nReporte de clasificación:\")\n",
    "print(classification_report(y_test_labels, y_pred_labels))"
   ]
  },
  {
   "cell_type": "code",
   "execution_count": 12,
   "id": "f9cee10f",
   "metadata": {},
   "outputs": [
    {
     "data": {
      "image/png": "[encoded data removed]",
      "text/plain": [
       "<Figure size 640x480 with 2 Axes>"
      ]
     },
     "metadata": {},
     "output_type": "display_data"
    }
   ],
   "source": [
    "from sklearn.metrics import confusion_matrix\n",
    "import seaborn as sns\n",
    "import matplotlib.pyplot as plt\n",
    "\n",
    "cm = confusion_matrix(y_test_labels, y_pred_labels)\n",
    "sns.heatmap(cm, annot=True, fmt='d', cmap='Blues')\n",
    "plt.show()"
   ]
  },
  {
   "cell_type": "markdown",
   "id": "fae5f2ef",
   "metadata": {},
   "source": [
    "# k folds con nuevas features"
   ]
  },
  {
   "cell_type": "code",
   "execution_count": 13,
   "id": "1e688bb5",
   "metadata": {},
   "outputs": [
    {
     "name": "stdout",
     "output_type": "stream",
     "text": [
      "\n",
      "Resultados de la Validación Cruzada (15 folds):\n",
      "Accuracy promedio (test): 0.7648 (±0.1470)\n",
      "Precision promedio (test): 0.8388 (±0.0813)\n",
      "Recall promedio (test): 0.7648 (±0.1470)\n",
      "F1-score promedio (test): 0.7485 (±0.1487)\n",
      "\n",
      "Detalle por fold:\n",
      "Fold 1: Accuracy = 0.3837\n",
      "Fold 2: Accuracy = 0.8256\n",
      "Fold 3: Accuracy = 0.8012\n",
      "Fold 4: Accuracy = 0.8363\n",
      "Fold 5: Accuracy = 0.7544\n",
      "Fold 6: Accuracy = 0.9298\n",
      "Fold 7: Accuracy = 0.5848\n",
      "Fold 8: Accuracy = 0.5789\n",
      "Fold 9: Accuracy = 0.8070\n",
      "Fold 10: Accuracy = 0.7135\n",
      "Fold 11: Accuracy = 0.9240\n",
      "Fold 12: Accuracy = 0.8246\n",
      "Fold 13: Accuracy = 0.7953\n",
      "Fold 14: Accuracy = 0.9649\n",
      "Fold 15: Accuracy = 0.7485\n"
     ]
    }
   ],
   "source": [
    "from sklearn.model_selection import cross_validate\n",
    "from sklearn.ensemble import RandomForestClassifier\n",
    "import numpy as np\n",
    "from sklearn.model_selection import cross_val_score\n",
    "\n",
    "# 1. Definir el modelo con los mejores parámetros si ya hiciste GridSearch\n",
    "# Si no, usamos parámetros por defecto\n",
    "rf_model = RandomForestClassifier(\n",
    "    n_estimators=100,\n",
    "    random_state=42,\n",
    "    class_weight='balanced'  # Útil si tienes clases desbalanceadas\n",
    ")\n",
    "\n",
    "# 2. Métricas a calcular durante la validación cruzada\n",
    "scoring = {\n",
    "    'accuracy': 'accuracy',\n",
    "    'precision': 'precision_weighted',\n",
    "    'recall': 'recall_weighted',\n",
    "    'f1': 'f1_weighted'\n",
    "}\n",
    "\n",
    "# 3. Ejecutar 6-fold cross-validation\n",
    "cv_results = cross_validate(\n",
    "    estimator=rf_model,\n",
    "    X=X,  # Todas tus features\n",
    "    y=y,  # Tu target codificado\n",
    "    cv=15,  # 6 folds\n",
    "    scoring=scoring,\n",
    "    n_jobs=-1,  # Usar todos los cores del CPU\n",
    "    return_train_score=True  # Para ver métricas en train también\n",
    ")\n",
    "\n",
    "# 4. Procesar y mostrar resultados\n",
    "print(\"\\nResultados de la Validación Cruzada (15 folds):\")\n",
    "print(f\"Accuracy promedio (test): {np.mean(cv_results['test_accuracy']):.4f} (±{np.std(cv_results['test_accuracy']):.4f})\")\n",
    "print(f\"Precision promedio (test): {np.mean(cv_results['test_precision']):.4f} (±{np.std(cv_results['test_precision']):.4f})\")\n",
    "print(f\"Recall promedio (test): {np.mean(cv_results['test_recall']):.4f} (±{np.std(cv_results['test_recall']):.4f})\")\n",
    "print(f\"F1-score promedio (test): {np.mean(cv_results['test_f1']):.4f} (±{np.std(cv_results['test_f1']):.4f})\")\n",
    "\n",
    "# 5. Opcional: Ver resultados por cada fold\n",
    "print(\"\\nDetalle por fold:\")\n",
    "for i in range(15):\n",
    "    print(f\"Fold {i+1}: Accuracy = {cv_results['test_accuracy'][i]:.4f}\")"
   ]
  },
  {
   "cell_type": "markdown",
   "id": "9188d3b1",
   "metadata": {},
   "source": [
    "# Observaciones al agregar nuevas features\n",
    "\n",
    "Con las features originales el modelo Random Forest alcanzaba un accuracy de 0.91 y F1-score de 0.90.\n",
    "Al incorporar nuevas features (humidity_squared, log_humidity, is_high_humidity, humidity_rolling_avg, humidity_std) el rendimiento subió a un accuracy de 0.98 y F1-score de 0.98. Entonces podemos decir que las nuevas variables mejoraron considerablemente la capacidad predictiva del modelo, sobre todo para clases difíciles como “Crítico” o “Triste”.\n",
    "\n",
    "A pesar del buen rendimiento en el set de test, en la validación cruzada con 15 folds el modelo con nuevas features mostró alta variabilidad con accuracy promedio: 0.76 y desviación estándar: ±0.15 y folds con accuracy desde 0.38 hasta 0.96. Esto sugiere que el modelo depende del conjunto específico de entrenamiento, y podría verse afectado si se entrena con muestras no representativas.\n",
    "\n",
    "Consideramos que al agregar features tenemos un costo computacional bajo para el beneficio obtenido. Solo se agregaron nuevas columnas calculadas con pandas y el modelo mejoró significativamente. Es una buena relación costo-beneficio, ya que presenta una mejora clara sin aumentar la complejidad del entrenamiento."
   ]
  }
 ],
 "metadata": {
  "kernelspec": {
   "display_name": "Python 3",
   "language": "python",
   "name": "python3"
  },
  "language_info": {
   "codemirror_mode": {
    "name": "ipython",
    "version": 3
   },
   "file_extension": ".py",
   "mimetype": "text/x-python",
   "name": "python",
   "nbconvert_exporter": "python",
   "pygments_lexer": "ipython3",
   "version": "3.12.2"
  }
 },
 "nbformat": 4,
 "nbformat_minor": 5
}
