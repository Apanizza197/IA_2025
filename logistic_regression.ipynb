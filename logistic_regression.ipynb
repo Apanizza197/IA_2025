{
 "cells": [
  {
   "cell_type": "code",
   "execution_count": null,
   "id": "17594512",
   "metadata": {},
   "outputs": [
    {
     "data": {
      "text/html": [
       "<div>\n",
       "<style scoped>\n",
       "    .dataframe tbody tr th:only-of-type {\n",
       "        vertical-align: middle;\n",
       "    }\n",
       "\n",
       "    .dataframe tbody tr th {\n",
       "        vertical-align: top;\n",
       "    }\n",
       "\n",
       "    .dataframe thead th {\n",
       "        text-align: right;\n",
       "    }\n",
       "</style>\n",
       "<table border=\"1\" class=\"dataframe\">\n",
       "  <thead>\n",
       "    <tr style=\"text-align: right;\">\n",
       "      <th></th>\n",
       "      <th>humidity</th>\n",
       "      <th>light</th>\n",
       "      <th>temperature</th>\n",
       "      <th>timestamp</th>\n",
       "      <th>state</th>\n",
       "      <th>humidity_yesterday</th>\n",
       "      <th>light_yesterday</th>\n",
       "      <th>temperature_yesterday</th>\n",
       "      <th>state_encoded</th>\n",
       "    </tr>\n",
       "  </thead>\n",
       "  <tbody>\n",
       "    <tr>\n",
       "      <th>0</th>\n",
       "      <td>46.0</td>\n",
       "      <td>21.0</td>\n",
       "      <td>24.13</td>\n",
       "      <td>2025-04-22 07:35:00.595</td>\n",
       "      <td>Normal</td>\n",
       "      <td>62.697707</td>\n",
       "      <td>-8.251544</td>\n",
       "      <td>11.781720</td>\n",
       "      <td>2</td>\n",
       "    </tr>\n",
       "    <tr>\n",
       "      <th>1</th>\n",
       "      <td>43.0</td>\n",
       "      <td>55.0</td>\n",
       "      <td>14.85</td>\n",
       "      <td>2025-04-22 07:45:00.611</td>\n",
       "      <td>Normal</td>\n",
       "      <td>3.277328</td>\n",
       "      <td>8.555796</td>\n",
       "      <td>25.807548</td>\n",
       "      <td>2</td>\n",
       "    </tr>\n",
       "    <tr>\n",
       "      <th>2</th>\n",
       "      <td>46.0</td>\n",
       "      <td>53.0</td>\n",
       "      <td>12.43</td>\n",
       "      <td>2025-04-22 07:55:00.626</td>\n",
       "      <td>Normal</td>\n",
       "      <td>33.500679</td>\n",
       "      <td>9.690171</td>\n",
       "      <td>26.192987</td>\n",
       "      <td>2</td>\n",
       "    </tr>\n",
       "    <tr>\n",
       "      <th>3</th>\n",
       "      <td>44.0</td>\n",
       "      <td>62.0</td>\n",
       "      <td>13.46</td>\n",
       "      <td>2025-04-22 08:05:00.641</td>\n",
       "      <td>Normal</td>\n",
       "      <td>6.846055</td>\n",
       "      <td>32.005176</td>\n",
       "      <td>19.277781</td>\n",
       "      <td>2</td>\n",
       "    </tr>\n",
       "    <tr>\n",
       "      <th>4</th>\n",
       "      <td>44.0</td>\n",
       "      <td>62.0</td>\n",
       "      <td>13.52</td>\n",
       "      <td>2025-04-22 08:15:00.656</td>\n",
       "      <td>Normal</td>\n",
       "      <td>0.704795</td>\n",
       "      <td>48.535953</td>\n",
       "      <td>21.623192</td>\n",
       "      <td>2</td>\n",
       "    </tr>\n",
       "  </tbody>\n",
       "</table>\n",
       "</div>"
      ],
      "text/plain": [
       "   humidity  light  temperature                timestamp   state  \\\n",
       "0      46.0   21.0        24.13  2025-04-22 07:35:00.595  Normal   \n",
       "1      43.0   55.0        14.85  2025-04-22 07:45:00.611  Normal   \n",
       "2      46.0   53.0        12.43  2025-04-22 07:55:00.626  Normal   \n",
       "3      44.0   62.0        13.46  2025-04-22 08:05:00.641  Normal   \n",
       "4      44.0   62.0        13.52  2025-04-22 08:15:00.656  Normal   \n",
       "\n",
       "   humidity_yesterday  light_yesterday  temperature_yesterday  state_encoded  \n",
       "0           62.697707        -8.251544              11.781720              2  \n",
       "1            3.277328         8.555796              25.807548              2  \n",
       "2           33.500679         9.690171              26.192987              2  \n",
       "3            6.846055        32.005176              19.277781              2  \n",
       "4            0.704795        48.535953              21.623192              2  "
      ]
     },
     "execution_count": 4,
     "metadata": {},
     "output_type": "execute_result"
    }
   ],
   "source": [
    "import pandas as pd\n",
    "from sklearn.preprocessing import LabelEncoder\n",
    "from sklearn.model_selection import train_test_split\n",
    "\n",
    "df = pd.read_csv('datos_planta2.csv')\n",
    "\n",
    "label_encoder = LabelEncoder()\n",
    "df['state_encoded'] = label_encoder.fit_transform(df['state'])\n",
    "\n",
    "# Separamos features y target\n",
    "X = df[['humidity', 'temperature', 'light',\n",
    "        'humidity_yesterday', 'temperature_yesterday', 'light_yesterday']]\n",
    "y = df['state_encoded']  # Usamos la versión codificada para el modelo\n",
    "\n",
    "\n",
    "# Dividimos en train y test\n",
    "X_train, X_test, y_train, y_test = train_test_split(X, y, test_size=0.3, random_state=42)"
   ]
  },
  {
   "cell_type": "code",
   "execution_count": 12,
   "id": "9bf1826a",
   "metadata": {},
   "outputs": [
    {
     "name": "stdout",
     "output_type": "stream",
     "text": [
      "Accuracy: 0.6796368352788587\n",
      "\n",
      "Reporte de clasificación:\n",
      "              precision    recall  f1-score   support\n",
      "\n",
      "     Critico       0.38      0.49      0.43        81\n",
      "  Muy Triste       0.64      0.58      0.61       185\n",
      "      Normal       0.90      0.87      0.89       366\n",
      "      Triste       0.40      0.41      0.40       139\n",
      "\n",
      "    accuracy                           0.68       771\n",
      "   macro avg       0.58      0.59      0.58       771\n",
      "weighted avg       0.69      0.68      0.69       771\n",
      "\n"
     ]
    },
    {
     "name": "stderr",
     "output_type": "stream",
     "text": [
      "/home/agustinpanizza/Documents/Facultad/IA/.venv/lib64/python3.13/site-packages/sklearn/linear_model/_logistic.py:1247: FutureWarning: 'multi_class' was deprecated in version 1.5 and will be removed in 1.7. From then on, it will always use 'multinomial'. Leave it to its default value to avoid this warning.\n",
      "  warnings.warn(\n"
     ]
    },
    {
     "data": {
      "image/png": "[encoded data removed]",
      "text/plain": [
       "<Figure size 640x480 with 2 Axes>"
      ]
     },
     "metadata": {},
     "output_type": "display_data"
    }
   ],
   "source": [
    "from sklearn.linear_model import LogisticRegression\n",
    "from sklearn.preprocessing import StandardScaler\n",
    "from sklearn.pipeline import make_pipeline\n",
    "from sklearn.metrics import classification_report, accuracy_score, recall_score, precision_score, f1_score\n",
    "from sklearn.metrics import confusion_matrix\n",
    "import seaborn as sns\n",
    "\n",
    "# 1. Crear pipeline con escalado y modelo\n",
    "# (La regresión logística es sensible a la escala de los features)\n",
    "log_reg = make_pipeline(\n",
    "    StandardScaler(),\n",
    "    LogisticRegression(\n",
    "        multi_class='multinomial',  # Para problemas multiclase\n",
    "        solver='lbfgs',            # Algoritmo de optimización\n",
    "        max_iter=1000,             # Número máximo de iteraciones\n",
    "        random_state=42,\n",
    "        class_weight='balanced'    # Para manejar clases desbalanceadas\n",
    "    )\n",
    ")\n",
    "\n",
    "# 2. Entrenar el modelo\n",
    "log_reg.fit(X_train, y_train)\n",
    "\n",
    "# 3. Evaluar el modelo\n",
    "y_pred = log_reg.predict(X_test)\n",
    "\n",
    "cm = confusion_matrix(y_test, y_pred)\n",
    "sns.heatmap(cm, annot=True, fmt='d', cmap='Blues')\n",
    "\n",
    "print(\"Accuracy:\", accuracy_score(y_test, y_pred))\n",
    "print(\"\\nReporte de clasificación:\")\n",
    "print(classification_report(y_test, y_pred, target_names=label_encoder.classes_))"
   ]
  },
  {
   "cell_type": "code",
   "execution_count": 14,
   "id": "9c2c35f3",
   "metadata": {},
   "outputs": [
    {
     "name": "stdout",
     "output_type": "stream",
     "text": [
      "means = [24.54899777 20.95634902 17.98162584 26.76773195 20.95911447 19.20759331]\n",
      "scales = [24.22570061  2.39963187 41.75260147 24.34974459  2.72787075 41.55908693]\n",
      "coefs = [ 0.35338097 -0.37517662  0.09711638 -0.30009378 -0.24447124 -0.08014082]\n",
      "bias  = 0.17525277897114952\n"
     ]
    }
   ],
   "source": [
    "scaler = log_reg.named_steps['standardscaler']\n",
    "lr     = log_reg.named_steps['logisticregression']\n",
    "\n",
    "means  = scaler.mean_          # length 3\n",
    "scales = scaler.scale_         # length 3\n",
    "coefs  = lr.coef_[0]           # first class vs rest  (shape (3,))\n",
    "bias   = lr.intercept_[0]\n",
    "\n",
    "print(\"means =\", means)\n",
    "print(\"scales =\", scales)\n",
    "print(\"coefs =\", coefs)\n",
    "print(\"bias  =\", bias)\n"
   ]
  }
 ],
 "metadata": {
  "kernelspec": {
   "display_name": ".venv",
   "language": "python",
   "name": "python3"
  },
  "language_info": {
   "codemirror_mode": {
    "name": "ipython",
    "version": 3
   },
   "file_extension": ".py",
   "mimetype": "text/x-python",
   "name": "python",
   "nbconvert_exporter": "python",
   "pygments_lexer": "ipython3",
   "version": "3.13.3"
  }
 },
 "nbformat": 4,
 "nbformat_minor": 5
}
